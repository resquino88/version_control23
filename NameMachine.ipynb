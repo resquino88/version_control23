{
 "cells": [
  {
   "cell_type": "code",
   "execution_count": 33,
   "metadata": {},
   "outputs": [
    {
     "name": "stdin",
     "output_type": "stream",
     "text": [
      "Enter your name: jack\n"
     ]
    }
   ],
   "source": [
    "name = input(\"Enter your name:\")"
   ]
  },
  {
   "cell_type": "code",
   "execution_count": 35,
   "metadata": {},
   "outputs": [
    {
     "name": "stdin",
     "output_type": "stream",
     "text": [
      "What letter would you like to be removed from your name? ck\n"
     ]
    },
    {
     "name": "stdout",
     "output_type": "stream",
     "text": [
      "Please enter a valid character!\n"
     ]
    },
    {
     "name": "stdin",
     "output_type": "stream",
     "text": [
      "What letter would you like to be removed from your name? a\n"
     ]
    },
    {
     "name": "stdout",
     "output_type": "stream",
     "text": [
      "Name with removed letter (a): jck\n"
     ]
    }
   ],
   "source": [
    "while(True):\n",
    "    try:\n",
    "        letterToRemove = str(input(\"What letter would you like to be removed from your name?\"))\n",
    "        if len(letterToRemove) != 1 or (not letterToRemove.isalpha()):\n",
    "            raise Exception(\"Please enter a valid character!\")\n",
    "        print(\"Name with removed letter (\" + letterToRemove + \"):\", name.replace(letterToRemove,''))\n",
    "        break\n",
    "    except:\n",
    "        print(\"Please enter a valid character!\")"
   ]
  },
  {
   "cell_type": "code",
   "execution_count": null,
   "metadata": {},
   "outputs": [],
   "source": []
  }
 ],
 "metadata": {
  "kernelspec": {
   "display_name": "Python 3",
   "language": "python",
   "name": "python3"
  },
  "language_info": {
   "codemirror_mode": {
    "name": "ipython",
    "version": 3
   },
   "file_extension": ".py",
   "mimetype": "text/x-python",
   "name": "python",
   "nbconvert_exporter": "python",
   "pygments_lexer": "ipython3",
   "version": "3.8.3"
  }
 },
 "nbformat": 4,
 "nbformat_minor": 4
}
