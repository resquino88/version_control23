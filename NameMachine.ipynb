{
 "cells": [
  {
   "cell_type": "code",
   "execution_count": 25,
   "metadata": {},
   "outputs": [
    {
     "name": "stdin",
     "output_type": "stream",
     "text": [
      "Enter your name: timmy\n"
     ]
    }
   ],
   "source": [
    "name = input(\"Enter your name:\")"
   ]
  },
  {
   "cell_type": "code",
   "execution_count": 32,
   "metadata": {},
   "outputs": [
    {
     "name": "stdin",
     "output_type": "stream",
     "text": [
      "What letter would you like to be removed from your name? m\n"
     ]
    },
    {
     "name": "stdout",
     "output_type": "stream",
     "text": [
      "Name with removed letter (m): tiy\n"
     ]
    }
   ],
   "source": [
    "try:\n",
    "    letterToRemove = str(input(\"What letter would you like to be removed from your name?\"))\n",
    "    if len(letterToRemove) != 1 or (not letterToRemove.isalpha()):\n",
    "        raise Exception(\"Please enter a valid character!\")\n",
    "    print(\"Name with removed letter (\" + letterToRemove + \"):\", name.replace(letterToRemove,''))\n",
    "except:\n",
    "    print(\"Please enter a valid character!\")"
   ]
  },
  {
   "cell_type": "code",
   "execution_count": null,
   "metadata": {},
   "outputs": [],
   "source": []
  }
 ],
 "metadata": {
  "kernelspec": {
   "display_name": "Python 3",
   "language": "python",
   "name": "python3"
  },
  "language_info": {
   "codemirror_mode": {
    "name": "ipython",
    "version": 3
   },
   "file_extension": ".py",
   "mimetype": "text/x-python",
   "name": "python",
   "nbconvert_exporter": "python",
   "pygments_lexer": "ipython3",
   "version": "3.8.3"
  }
 },
 "nbformat": 4,
 "nbformat_minor": 4
}
